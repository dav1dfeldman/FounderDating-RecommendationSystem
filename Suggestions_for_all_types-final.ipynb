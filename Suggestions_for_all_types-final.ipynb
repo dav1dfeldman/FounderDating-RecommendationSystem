{
 "cells": [
  {
   "cell_type": "code",
   "execution_count": 1,
   "metadata": {
    "collapsed": false
   },
   "outputs": [],
   "source": [
    "import pandas as pd\n",
    "import pickle\n",
    "import random\n",
    "from collections import OrderedDict\n",
    "from sklearn.decomposition import PCA\n",
    "from sklearn.metrics.pairwise import cosine_similarity"
   ]
  },
  {
   "cell_type": "code",
   "execution_count": 2,
   "metadata": {
    "collapsed": false
   },
   "outputs": [],
   "source": [
    "# to open file\n",
    "def getData(df_name):\n",
    "    df = pd.read_csv('../FounderDating/data/%s.csv' % df_name)\n",
    "    return df"
   ]
  },
  {
   "cell_type": "code",
   "execution_count": 3,
   "metadata": {
    "collapsed": false
   },
   "outputs": [],
   "source": [
    "co_primary_df = getData('co_primary')\n",
    "co_primary_df = co_primary_df.drop('assigned_user_id', axis = 1).rename(columns = {'id' : 'user_id'}).set_index('user_id').rename(columns = {'primary_skillsets' : 'topics'})\n",
    "\n",
    "following_tags_df = getData('following_tags')\n",
    "following_tags_df = following_tags_df.rename(columns = {'GROUP_CONCAT(name)' : 'topics'}).set_index('user_id')\n",
    "\n",
    "advisees_df = getData('advisees')\n",
    "advisees_df = advisees_df.rename(columns = {'group_concat(tags.name)' : 'topics'}).set_index('user_id')\n",
    "\n",
    "advisors_df = getData('advisors')\n",
    "advisors_df = advisors_df.rename(columns = {'group_concat(tags.name)' : 'topics'}).set_index('user_id')\n",
    "\n",
    "# unapproved and approved\n",
    "advisors_un_df = getData('advisors_plus_unapproved')\n",
    "advisors_un_df = advisors_un_df.rename(columns = {'group_concat(tags.name)' : 'topics'}).set_index('user_id')"
   ]
  },
  {
   "cell_type": "code",
   "execution_count": 4,
   "metadata": {
    "collapsed": false
   },
   "outputs": [],
   "source": [
    "advisors_all_df = pd.concat([advisors_df, advisors_un_df], axis = 0).reset_index().groupby('user_id').min()"
   ]
  },
  {
   "cell_type": "code",
   "execution_count": 5,
   "metadata": {
    "collapsed": false
   },
   "outputs": [],
   "source": [
    "def get_dummies(df):\n",
    "    df = df['topics'].str.lower().str.get_dummies(sep=',')\n",
    "    return df"
   ]
  },
  {
   "cell_type": "code",
   "execution_count": 6,
   "metadata": {
    "collapsed": false
   },
   "outputs": [],
   "source": [
    "co_primary_df = get_dummies(co_primary_df)\n",
    "following_tags_df = get_dummies(following_tags_df)\n",
    "advisees_df = get_dummies(advisees_df)\n",
    "advisors_df = get_dummies(advisors_df)\n",
    "advisors_all_df = get_dummies(advisors_all_df)"
   ]
  },
  {
   "cell_type": "code",
   "execution_count": 7,
   "metadata": {
    "collapsed": false
   },
   "outputs": [],
   "source": [
    "# matching names to tags in MySQL\n",
    "co_p_matched_df = co_primary_df.rename(columns =\n",
    "                     {'classroom teacher':\n",
    "                      'education',\n",
    "                      'engineering - biomedical' :\n",
    "                      'biomedical engineering',\n",
    "                      'engineering - electrical':\n",
    "                      'electrical engineering',\n",
    "                      'engineering - mechanical':\n",
    "                      'mechanical engineering',\n",
    "                      'ui/design':\n",
    "                      'user interface design'})"
   ]
  },
  {
   "cell_type": "code",
   "execution_count": 8,
   "metadata": {
    "collapsed": false
   },
   "outputs": [],
   "source": [
    "co_p_matched_df.loc[:,'engineering'] = co_p_matched_df['engineering'] + co_p_matched_df['engineering - other']\n",
    "co_p_matched_df.engineering[co_p_matched_df.engineering > 1] = 1\n",
    "co_p_matched_df = co_p_matched_df.drop('engineering - other', axis = 1)"
   ]
  },
  {
   "cell_type": "code",
   "execution_count": 9,
   "metadata": {
    "collapsed": false
   },
   "outputs": [],
   "source": [
    "tdf_co = pd.concat([advisees_df, advisors_df,\n",
    "                       following_tags_df, co_p_matched_df], axis = 0).fillna(0)"
   ]
  },
  {
   "cell_type": "code",
   "execution_count": 10,
   "metadata": {
    "collapsed": false
   },
   "outputs": [],
   "source": [
    "# matching columns to the total/master data frame\n",
    "co_primary_df = co_primary_df.loc[:,tdf_co.columns].fillna(0)\n",
    "following_tags_df = following_tags_df.loc[:,tdf_co.columns].fillna(0)\n",
    "advisees_df = advisees_df.loc[:,tdf_co.columns].fillna(0)\n",
    "advisors_df = advisors_df.loc[:,tdf_co.columns].fillna(0)\n",
    "advisors_all_df = advisors_all_df.loc[:,tdf_co.columns].fillna(0)"
   ]
  },
  {
   "cell_type": "code",
   "execution_count": 11,
   "metadata": {
    "collapsed": false
   },
   "outputs": [],
   "source": [
    "tdf = pd.concat([advisees_df, advisors_df,\n",
    "                       following_tags_df], axis = 0).fillna(0)"
   ]
  },
  {
   "cell_type": "code",
   "execution_count": 12,
   "metadata": {
    "collapsed": false
   },
   "outputs": [],
   "source": [
    "tdf_reset = tdf.reset_index()\n",
    "tdf_cols = tdf_reset.ix[:,1:].columns\n",
    "y_num = 500\n",
    "for col in tdf_cols:\n",
    "    col_vals = tdf_reset.loc[:,col]\n",
    "    if sum(col_vals) > y_num:\n",
    "        ratio = len(col_vals) / float(sum(col_vals))\n",
    "        rows_keep = y_num * ratio\n",
    "        rows_rand = int(max(0,(len(col_vals) - rows_keep) * .8))\n",
    "        idx_to_0 = random.sample(tdf_reset.index, rows_rand)\n",
    "        tdf_reset.ix[idx_to_0, col] = 0\n",
    "tdf = tdf_reset.set_index('user_id')"
   ]
  },
  {
   "cell_type": "code",
   "execution_count": 13,
   "metadata": {
    "collapsed": false
   },
   "outputs": [],
   "source": [
    "# unique following\n",
    "\n",
    "temp_df = following_tags_df.copy(deep = True)\n",
    "temp_df = temp_df.applymap(lambda x: 0)"
   ]
  },
  {
   "cell_type": "code",
   "execution_count": 14,
   "metadata": {
    "collapsed": false
   },
   "outputs": [],
   "source": [
    "advisees_temp = advisees_df.copy(deep = True)\n",
    "advisors_all_temp = advisors_all_df.copy(deep = True)"
   ]
  },
  {
   "cell_type": "code",
   "execution_count": 15,
   "metadata": {
    "collapsed": false
   },
   "outputs": [],
   "source": [
    "advisees_temp = advisees_temp.ix[temp_df.index].fillna(0)\n",
    "advisors_all_temp = advisors_all_temp.ix[temp_df.index].fillna(0)"
   ]
  },
  {
   "cell_type": "code",
   "execution_count": 16,
   "metadata": {
    "collapsed": false
   },
   "outputs": [],
   "source": [
    "both_df = advisees_temp + advisors_all_temp"
   ]
  },
  {
   "cell_type": "code",
   "execution_count": 17,
   "metadata": {
    "collapsed": false
   },
   "outputs": [],
   "source": [
    "follow_unique_df = following_tags_df.copy(deep = True)"
   ]
  },
  {
   "cell_type": "code",
   "execution_count": 18,
   "metadata": {
    "collapsed": false
   },
   "outputs": [],
   "source": [
    "follow_unique_df = follow_unique_df - both_df"
   ]
  },
  {
   "cell_type": "code",
   "execution_count": 19,
   "metadata": {
    "collapsed": false
   },
   "outputs": [],
   "source": [
    "user_follows = follow_unique_df.transpose().sum()"
   ]
  },
  {
   "cell_type": "code",
   "execution_count": 20,
   "metadata": {
    "collapsed": false
   },
   "outputs": [],
   "source": [
    "temp_idx = user_follows[user_follows > 0].index"
   ]
  },
  {
   "cell_type": "code",
   "execution_count": 21,
   "metadata": {
    "collapsed": false
   },
   "outputs": [],
   "source": [
    "follow_unique_df = follow_unique_df.ix[temp_idx]"
   ]
  },
  {
   "cell_type": "code",
   "execution_count": 22,
   "metadata": {
    "collapsed": false
   },
   "outputs": [],
   "source": [
    "pca = PCA(n_components=200)\n",
    "pca.fit(tdf.transpose().values)\n",
    "pca_total = pca.transform(tdf.transpose().values)"
   ]
  },
  {
   "cell_type": "code",
   "execution_count": 23,
   "metadata": {
    "collapsed": false
   },
   "outputs": [],
   "source": [
    "def SuggestionsUnfollowedDF(user_id, df):\n",
    "    # topics the user likes\n",
    "    user_topic_lists = []\n",
    "    if user_id in df.index:\n",
    "        user_row = df.loc[user_id]\n",
    "        user_topic_lists.append(user_row[user_row > 0].index.tolist())\n",
    "        # user as a vector\n",
    "        for topic in user_topic_lists:\n",
    "            # make list for user space \"topic\" vectors\n",
    "\n",
    "            # columns the user belongs to\n",
    "            user_list_cols = tdf.loc[:,topic]\n",
    "\n",
    "            # get the user space for user\n",
    "            user_space = user_list_cols.transpose().sum().values.tolist()\n",
    "\n",
    "        # tranform with PCA the \"user_space\" of the user to 200 dimensions\n",
    "        pca_vector = pca.transform(user_space)\n",
    "\n",
    "        # get cosine similarity of \"user_space\" of user\n",
    "        cos_type = cosine_similarity(pca_vector, pca_total).tolist()[0]\n",
    "\n",
    "    else:\n",
    "        return\n",
    "    # zipping, then sorting, the cosine similarity value and the topic\n",
    "    suggested_topics = sorted(zip(tdf_cols,cos_type),\n",
    "                              key = lambda x: x[1], reverse = True)\n",
    "    \n",
    "    # limits top 100 suggested topics to make sure it's not followed\n",
    "    suggested_topics = suggested_topics[:100]\n",
    "\n",
    "    if user_id in following_tags_df.index:\n",
    "        user_row = following_tags_df.loc[user_id]\n",
    "        followed = user_row[user_row > 0].index.tolist()\n",
    "        \n",
    "    # keeps not followed topics\n",
    "        suggested_topics = [(topic, cos) for topic, cos in suggested_topics if topic not in followed]\n",
    "\n",
    "    # shows top twenty suggestions of unfollowed topics\n",
    "    return [item[0] for item in suggested_topics][:20]"
   ]
  },
  {
   "cell_type": "code",
   "execution_count": 24,
   "metadata": {
    "collapsed": false
   },
   "outputs": [
    {
     "name": "stdout",
     "output_type": "stream",
     "text": [
      "starting to make suggestions\n"
     ]
    }
   ],
   "source": [
    "print \"starting to make suggestions\""
   ]
  },
  {
   "cell_type": "code",
   "execution_count": 25,
   "metadata": {
    "collapsed": false
   },
   "outputs": [],
   "source": [
    "advisors_all_dict = {}\n",
    "for user_id in advisors_all_df.index:\n",
    "    advisors_all_dict[user_id] = SuggestionsUnfollowedDF(user_id, advisors_all_df)"
   ]
  },
  {
   "cell_type": "code",
   "execution_count": 26,
   "metadata": {
    "collapsed": false
   },
   "outputs": [
    {
     "name": "stdout",
     "output_type": "stream",
     "text": [
      "finished file from advisor\n"
     ]
    }
   ],
   "source": [
    "with open('suggestions_advisors_all.pickle', 'wb') as handle:\n",
    "  pickle.dump(advisors_all_dict, handle)\n",
    "print \"finished file from advisor\""
   ]
  },
  {
   "cell_type": "code",
   "execution_count": 27,
   "metadata": {
    "collapsed": false
   },
   "outputs": [],
   "source": [
    "advisees_dict = {}\n",
    "for user_id in advisees_df.index:\n",
    "    advisees_dict[user_id] = SuggestionsUnfollowedDF(user_id, advisees_df)"
   ]
  },
  {
   "cell_type": "code",
   "execution_count": 28,
   "metadata": {
    "collapsed": false
   },
   "outputs": [
    {
     "name": "stdout",
     "output_type": "stream",
     "text": [
      "finished file from advisee\n"
     ]
    }
   ],
   "source": [
    "with open('suggestions_advisees.pickle', 'wb') as handle:\n",
    "  pickle.dump(advisees_dict, handle)\n",
    "print \"finished file from advisee\""
   ]
  },
  {
   "cell_type": "code",
   "execution_count": 29,
   "metadata": {
    "collapsed": false
   },
   "outputs": [],
   "source": [
    "follow_unique_dict = {}\n",
    "for user_id in follow_unique_df.index:\n",
    "    follow_unique_dict[user_id] = SuggestionsUnfollowedDF(user_id, follow_unique_df)"
   ]
  },
  {
   "cell_type": "code",
   "execution_count": 30,
   "metadata": {
    "collapsed": false
   },
   "outputs": [
    {
     "name": "stdout",
     "output_type": "stream",
     "text": [
      "finished file from following topics\n"
     ]
    }
   ],
   "source": [
    "with open('suggestions_following.pickle', 'wb') as handle:\n",
    "  pickle.dump(follow_unique_dict, handle)\n",
    "print \"finished file from following topics\""
   ]
  },
  {
   "cell_type": "code",
   "execution_count": 31,
   "metadata": {
    "collapsed": false
   },
   "outputs": [],
   "source": [
    "# Co Primary"
   ]
  },
  {
   "cell_type": "code",
   "execution_count": 87,
   "metadata": {
    "collapsed": false
   },
   "outputs": [],
   "source": [
    "topics_df = pd.read_csv('../FounderDating/data/topics.csv')\n",
    "topics_df['total'] = topics_df['advisor_all_count'] + topics_df['number of advisees']\n",
    "topics_df = topics_df.sort(columns = ['group', 'total'], ascending = [1,0])"
   ]
  },
  {
   "cell_type": "code",
   "execution_count": 88,
   "metadata": {
    "collapsed": false
   },
   "outputs": [],
   "source": [
    "def topic_dict(list_of_groups):\n",
    "    topic_list = []\n",
    "    count_list = []\n",
    "    for item in list_of_groups:\n",
    "        for topic in topics_df[topics_df.group == item].topics:\n",
    "            topic_list.append(topic)\n",
    "    for item in list_of_groups:\n",
    "        for num in topics_df[topics_df.group == item].total:\n",
    "            count_list.append(num)\n",
    "    d = dict(zip(topic_list, count_list))\n",
    "\n",
    "    dict_sort = OrderedDict(sorted(d.items(),\n",
    "                                   key=lambda t: t[1], reverse=True))\n",
    "    return dict_sort"
   ]
  },
  {
   "cell_type": "code",
   "execution_count": 89,
   "metadata": {
    "collapsed": false
   },
   "outputs": [],
   "source": [
    "ad_sales_list = ['sales', 'advertising']\n",
    "business_development_list = ['business development']\n",
    "education_list = ['education']\n",
    "engineering_list = ['engineering']\n",
    "biomedical_engineering_list = ['healthcare', 'science']\n",
    "electrical_engineering_list = ['hardware']\n",
    "mechanical_engineering_list = ['hardware']\n",
    "enterprise_sales_list = ['enterprise']\n",
    "fundraising_list = ['fundraising']\n",
    "industrial_design_list = ['hardware', 'design']\n",
    "marketing_list = ['marketing', 'growth']\n",
    "product_list = ['product management']\n",
    "user_interface_design_list = ['design']"
   ]
  },
  {
   "cell_type": "code",
   "execution_count": 90,
   "metadata": {
    "collapsed": false
   },
   "outputs": [],
   "source": [
    "ad_sales = topic_dict(ad_sales_list)\n",
    "business_development = topic_dict(business_development_list)\n",
    "education = topic_dict(education_list)\n",
    "engineering = topic_dict(engineering_list)\n",
    "biomedical_engineering = topic_dict(biomedical_engineering_list)\n",
    "electrical_engineering = topic_dict(electrical_engineering_list)\n",
    "mechanical_engineering = topic_dict(mechanical_engineering_list)\n",
    "enterprise_sales = topic_dict(enterprise_sales_list)\n",
    "fundraising = topic_dict(fundraising_list)\n",
    "industrial_design = topic_dict(industrial_design_list)\n",
    "marketing = topic_dict(marketing_list)\n",
    "product = topic_dict(product_list)\n",
    "user_interface_design = topic_dict(user_interface_design_list)"
   ]
  },
  {
   "cell_type": "code",
   "execution_count": 91,
   "metadata": {
    "collapsed": false
   },
   "outputs": [],
   "source": [
    "groups_dict = {}\n",
    "groups_dict['ad sales'] = ad_sales.keys()\n",
    "groups_dict['business development'] = business_development.keys()\n",
    "groups_dict['education'] = education.keys()\n",
    "groups_dict['engineering'] = engineering.keys()\n",
    "groups_dict['biomedical engineering'] = biomedical_engineering.keys()\n",
    "groups_dict['electrical engineering'] = electrical_engineering.keys()\n",
    "groups_dict['mechanical engineering'] = mechanical_engineering.keys()\n",
    "groups_dict['enterprise sales'] = enterprise_sales.keys()\n",
    "groups_dict['fundraising'] = fundraising.keys()\n",
    "groups_dict['industrial design'] = industrial_design.keys()\n",
    "groups_dict['marketing'] = marketing.keys()\n",
    "groups_dict['product'] = product.keys()\n",
    "groups_dict['user interface design'] = user_interface_design.keys()"
   ]
  },
  {
   "cell_type": "code",
   "execution_count": 92,
   "metadata": {
    "collapsed": false
   },
   "outputs": [],
   "source": [
    "def make_suggestions(user_id):\n",
    "    user_co = cos_following.ix[user_id]\n",
    "    user_primary = user_co[user_co > 0].index\n",
    "    suggestion_list = []\n",
    "    if len(user_primary) > 0:\n",
    "        num = 30 / len(user_primary)\n",
    "        for pri in user_primary:\n",
    "            for topic in groups_dict[pri][:num]:\n",
    "                if topic not in suggestion_list:\n",
    "                    suggestion_list.append(topic)\n",
    "    return sorted(suggestion_list)"
   ]
  },
  {
   "cell_type": "code",
   "execution_count": 96,
   "metadata": {
    "collapsed": false
   },
   "outputs": [],
   "source": [
    "co_following_idx = (set(co_p_matched_df.index) -\n",
    "                    set(following_tags_df.index) -\n",
    "                    set(advisees_df.index) -\n",
    "                    set(advisors_df.index))"
   ]
  },
  {
   "cell_type": "code",
   "execution_count": 98,
   "metadata": {
    "collapsed": false
   },
   "outputs": [],
   "source": [
    "cos_following = co_p_matched_df.ix[co_following_idx]\n",
    "cos_following = cos_following.sort_index()"
   ]
  },
  {
   "cell_type": "code",
   "execution_count": 99,
   "metadata": {
    "collapsed": false
   },
   "outputs": [],
   "source": [
    "user_dict = {}"
   ]
  },
  {
   "cell_type": "code",
   "execution_count": 100,
   "metadata": {
    "collapsed": false
   },
   "outputs": [],
   "source": [
    "for idx in cos_following.index:\n",
    "    user_dict[idx] = make_suggestions(idx)"
   ]
  },
  {
   "cell_type": "code",
   "execution_count": 101,
   "metadata": {
    "collapsed": false
   },
   "outputs": [],
   "source": [
    "with open('suggestions_primary.pickle', 'wb') as handle:\n",
    "  pickle.dump(user_dict, handle)\n",
    "print \"finished file from primary\""
   ]
  }
 ],
 "metadata": {
  "kernelspec": {
   "display_name": "Python 2",
   "language": "python",
   "name": "python2"
  },
  "language_info": {
   "codemirror_mode": {
    "name": "ipython",
    "version": 2
   },
   "file_extension": ".py",
   "mimetype": "text/x-python",
   "name": "python",
   "nbconvert_exporter": "python",
   "pygments_lexer": "ipython2",
   "version": "2.7.9"
  }
 },
 "nbformat": 4,
 "nbformat_minor": 0
}
